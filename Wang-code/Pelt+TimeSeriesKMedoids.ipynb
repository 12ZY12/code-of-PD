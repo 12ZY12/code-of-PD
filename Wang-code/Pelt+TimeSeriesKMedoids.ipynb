{
 "cells": [
  {
   "cell_type": "code",
   "execution_count": null,
   "metadata": {
    "collapsed": true,
    "pycharm": {
     "name": "#%%\n",
     "is_executing": true
    }
   },
   "outputs": [],
   "source": [
    "import matplotlib.pylab as plt\n",
    "import ruptures as rpt\n",
    "import pandas as pd\n",
    "from scipy.signal import savgol_filter\n",
    "from sktime.clustering.k_medoids import TimeSeriesKMedoids\n",
    "import numpy as np\n",
    "import plotly.graph_objects as go\n",
    "import plotly.express as px"
   ]
  },
  {
   "cell_type": "code",
   "execution_count": null,
   "outputs": [],
   "source": [
    "df = pd.read_excel(r'D:\\data_analysis\\data.xlsx', sheet_name='Sheet1')\n",
    "df = df.rename(columns={\"Untitled\": \"timestamp\", \"Untitled 1\": \"deformation quantity\"})\n",
    "selected_columns = ['deformation quantity']\n",
    "plt.figure(figsize=(16, 10))\n",
    "plt.plot(df[selected_columns[0]])\n",
    "plt.rcParams['font.sans-serif'] = ['Microsoft YaHei']\n",
    "plt.title(f\"原始数据\", y=1, fontsize=20)\n",
    "plt.show()\n"
   ],
   "metadata": {
    "collapsed": false,
    "pycharm": {
     "name": "#%%\n"
    }
   }
  },
  {
   "cell_type": "code",
   "execution_count": null,
   "outputs": [],
   "source": [
    "df[selected_columns[0]] = savgol_filter(df[selected_columns[0]],\n",
    "                                     window_length=5,\n",
    "                                     polyorder=3)\n",
    "plt.figure(figsize=(16, 10))\n",
    "plt.plot(df[selected_columns[0]])\n",
    "plt.rcParams['font.sans-serif'] = ['Microsoft YaHei']\n",
    "plt.title(f\"降噪后的数据\", y=1, fontsize=20)\n",
    "plt.show()\n"
   ],
   "metadata": {
    "collapsed": false,
    "pycharm": {
     "name": "#%%\n"
    }
   }
  },
  {
   "cell_type": "code",
   "execution_count": null,
   "outputs": [],
   "source": [
    "data = df[selected_columns[0]]\n",
    "signal = data.values\n",
    "model = \"rbf\"\n",
    "algo = rpt.Pelt(model=model,\n",
    "            min_size=90,\n",
    "            jump=3).fit(signal)\n",
    "my_bkps = algo.predict(pen=50)\n",
    "fig, ax_arr = rpt.display(signal, [],\n",
    "                    my_bkps,\n",
    "                    figsize=(16, 10))\n",
    "plt.show()\n"
   ],
   "metadata": {
    "collapsed": false,
    "pycharm": {
     "name": "#%%\n"
    }
   }
  },
  {
   "cell_type": "code",
   "execution_count": null,
   "outputs": [],
   "source": [
    "def extract_segments(signal, bkps):\n",
    "    \"\"\"根据分割点提取子序列\"\"\"\n",
    "    segments = []\n",
    "    start = 0\n",
    "    for end in bkps[:]:\n",
    "        segments.append(signal[start:end])\n",
    "        start = end\n",
    "    return segments\n",
    "def pad_segments(segments, pad_value=0):\n",
    "    \"\"\"将所有子序列填充到相同长度以将其转换为ndarray\"\"\"\n",
    "    max_length = max(len(seq) for seq in segments)\n",
    "    padded_sequences = np.array([np.pad(seq, (0, max_length - len(seq)), constant_values=pad_value)\n",
    "                       for seq in segments])\n",
    "    return padded_sequences\n",
    "def cluster_time_series_segments(pad_segments, n_clusters):\n",
    "    \"\"\"直接使用子序列进行 TimeSeriesKMedoids 聚类\"\"\"\n",
    "    kmedoids = TimeSeriesKMedoids(n_clusters=n_clusters, metric=\"dtw\")\n",
    "    labels = kmedoids.fit_predict(pad_segments)\n",
    "    return labels\n",
    "segments = extract_segments(signal, my_bkps)\n",
    "padded_segments = pad_segments(segments)\n",
    "num_clusters = 3\n",
    "labels = cluster_time_series_segments(padded_segments, num_clusters)\n"
   ],
   "metadata": {
    "collapsed": false,
    "pycharm": {
     "name": "#%%\n"
    }
   }
  },
  {
   "cell_type": "code",
   "execution_count": null,
   "outputs": [],
   "source": [
    "fig_result = go.Figure()\n",
    "for name in selected_columns:\n",
    "    fig_result.add_trace(go.Scatter(x=df.index, y=df[name], name=name))\n",
    "my_bkps.insert(0, 0)\n",
    "for i in range(len(my_bkps) - 1):\n",
    "    segment_label = labels[i]\n",
    "    fig_result.add_vrect(x0=my_bkps[i], x1=my_bkps[i + 1], fillcolor = px.colors.qualitative.Dark24[int(segment_label)], opacity=0.3, layer=\"below\", line_width=0)\n",
    "def add_annotation(x_point, y_point, annotation):\n",
    "    fig_result.add_annotation(\n",
    "        x=x_point,\n",
    "        y=y_point,\n",
    "        text= annotation + str(y_point),\n",
    "        showarrow=True,\n",
    "        font=dict(\n",
    "            family=\"Courier New, monospace\",\n",
    "            size=16,\n",
    "            color=\"#ffffff\"\n",
    "        ),\n",
    "        align=\"center\",\n",
    "        arrowhead=2,\n",
    "        arrowsize=1,\n",
    "        arrowwidth=2,\n",
    "        arrowcolor=\"#636363\",\n",
    "        ax=20,\n",
    "        ay=-30,\n",
    "        bordercolor=\"#c7c7c7\",\n",
    "        borderwidth=2,\n",
    "        borderpad=4,\n",
    "        bgcolor=\"#ff7f0e\",\n",
    "        opacity=0.5\n",
    "    )\n",
    "y_max = df[selected_columns[0]].max()\n",
    "x_max = df[selected_columns[0]].idxmax()\n",
    "y_min = df[selected_columns[0]].min()\n",
    "x_min = df[selected_columns[0]].idxmin()\n",
    "add_annotation(x_max, y_max, '最大值：')\n",
    "add_annotation(x_min, y_min, '最小值：')\n",
    "fig_result.show()\n"
   ],
   "metadata": {
    "collapsed": false,
    "pycharm": {
     "name": "#%%\n"
    }
   }
  }
 ],
 "metadata": {
  "kernelspec": {
   "display_name": "Python 3",
   "language": "python",
   "name": "python3"
  },
  "language_info": {
   "codemirror_mode": {
    "name": "ipython",
    "version": 2
   },
   "file_extension": ".py",
   "mimetype": "text/x-python",
   "name": "python",
   "nbconvert_exporter": "python",
   "pygments_lexer": "ipython2",
   "version": "2.7.6"
  }
 },
 "nbformat": 4,
 "nbformat_minor": 0
}